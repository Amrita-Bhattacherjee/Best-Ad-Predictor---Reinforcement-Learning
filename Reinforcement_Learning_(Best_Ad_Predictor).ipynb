{
  "nbformat": 4,
  "nbformat_minor": 0,
  "metadata": {
    "colab": {
      "provenance": [],
      "collapsed_sections": [
        "s2GJ3L1hoRxd",
        "QuSZKnj8oX9k"
      ]
    },
    "kernelspec": {
      "name": "python3",
      "display_name": "Python 3"
    },
    "language_info": {
      "name": "python"
    }
  },
  "cells": [
    {
      "cell_type": "markdown",
      "metadata": {
        "id": "cSx84mm5oKsg"
      },
      "source": [
        "# Best Advertisement Predictor"
      ]
    },
    {
      "cell_type": "code",
      "metadata": {
        "id": "yhwW4jH-YoiP"
      },
      "source": [
        "#Importing necessary libraries\n",
        "import numpy as np\n",
        "import pandas as pd\n",
        "import matplotlib.pyplot as plt\n",
        "import math\n",
        "import random\n",
        "\n",
        "#Importing dataset\n",
        "dataset = pd.read_csv('Ads_Optimisation.csv')"
      ],
      "execution_count": null,
      "outputs": []
    },
    {
      "cell_type": "code",
      "metadata": {
        "colab": {
          "base_uri": "https://localhost:8080/",
          "height": 357
        },
        "id": "yc9snRAGeQfK",
        "outputId": "4d8bcdaf-ccd8-494e-ac82-cf97146e5ad3"
      },
      "source": [
        "#Visualise the first few entries of the data\n",
        "dataset.head(10)"
      ],
      "execution_count": null,
      "outputs": [
        {
          "output_type": "execute_result",
          "data": {
            "text/html": [
              "<div>\n",
              "<style scoped>\n",
              "    .dataframe tbody tr th:only-of-type {\n",
              "        vertical-align: middle;\n",
              "    }\n",
              "\n",
              "    .dataframe tbody tr th {\n",
              "        vertical-align: top;\n",
              "    }\n",
              "\n",
              "    .dataframe thead th {\n",
              "        text-align: right;\n",
              "    }\n",
              "</style>\n",
              "<table border=\"1\" class=\"dataframe\">\n",
              "  <thead>\n",
              "    <tr style=\"text-align: right;\">\n",
              "      <th></th>\n",
              "      <th>Ad 1</th>\n",
              "      <th>Ad 2</th>\n",
              "      <th>Ad 3</th>\n",
              "      <th>Ad 4</th>\n",
              "      <th>Ad 5</th>\n",
              "      <th>Ad 6</th>\n",
              "      <th>Ad 7</th>\n",
              "      <th>Ad 8</th>\n",
              "      <th>Ad 9</th>\n",
              "      <th>Ad 10</th>\n",
              "    </tr>\n",
              "  </thead>\n",
              "  <tbody>\n",
              "    <tr>\n",
              "      <th>0</th>\n",
              "      <td>1</td>\n",
              "      <td>0</td>\n",
              "      <td>0</td>\n",
              "      <td>0</td>\n",
              "      <td>1</td>\n",
              "      <td>0</td>\n",
              "      <td>0</td>\n",
              "      <td>0</td>\n",
              "      <td>1</td>\n",
              "      <td>0</td>\n",
              "    </tr>\n",
              "    <tr>\n",
              "      <th>1</th>\n",
              "      <td>0</td>\n",
              "      <td>0</td>\n",
              "      <td>0</td>\n",
              "      <td>0</td>\n",
              "      <td>0</td>\n",
              "      <td>0</td>\n",
              "      <td>0</td>\n",
              "      <td>0</td>\n",
              "      <td>1</td>\n",
              "      <td>0</td>\n",
              "    </tr>\n",
              "    <tr>\n",
              "      <th>2</th>\n",
              "      <td>0</td>\n",
              "      <td>0</td>\n",
              "      <td>0</td>\n",
              "      <td>0</td>\n",
              "      <td>0</td>\n",
              "      <td>0</td>\n",
              "      <td>0</td>\n",
              "      <td>0</td>\n",
              "      <td>0</td>\n",
              "      <td>0</td>\n",
              "    </tr>\n",
              "    <tr>\n",
              "      <th>3</th>\n",
              "      <td>0</td>\n",
              "      <td>1</td>\n",
              "      <td>0</td>\n",
              "      <td>0</td>\n",
              "      <td>0</td>\n",
              "      <td>0</td>\n",
              "      <td>0</td>\n",
              "      <td>1</td>\n",
              "      <td>0</td>\n",
              "      <td>0</td>\n",
              "    </tr>\n",
              "    <tr>\n",
              "      <th>4</th>\n",
              "      <td>0</td>\n",
              "      <td>0</td>\n",
              "      <td>0</td>\n",
              "      <td>0</td>\n",
              "      <td>0</td>\n",
              "      <td>0</td>\n",
              "      <td>0</td>\n",
              "      <td>0</td>\n",
              "      <td>0</td>\n",
              "      <td>0</td>\n",
              "    </tr>\n",
              "    <tr>\n",
              "      <th>5</th>\n",
              "      <td>1</td>\n",
              "      <td>1</td>\n",
              "      <td>0</td>\n",
              "      <td>0</td>\n",
              "      <td>0</td>\n",
              "      <td>0</td>\n",
              "      <td>0</td>\n",
              "      <td>0</td>\n",
              "      <td>0</td>\n",
              "      <td>0</td>\n",
              "    </tr>\n",
              "    <tr>\n",
              "      <th>6</th>\n",
              "      <td>0</td>\n",
              "      <td>0</td>\n",
              "      <td>0</td>\n",
              "      <td>1</td>\n",
              "      <td>0</td>\n",
              "      <td>0</td>\n",
              "      <td>0</td>\n",
              "      <td>0</td>\n",
              "      <td>0</td>\n",
              "      <td>0</td>\n",
              "    </tr>\n",
              "    <tr>\n",
              "      <th>7</th>\n",
              "      <td>1</td>\n",
              "      <td>1</td>\n",
              "      <td>0</td>\n",
              "      <td>0</td>\n",
              "      <td>1</td>\n",
              "      <td>0</td>\n",
              "      <td>0</td>\n",
              "      <td>0</td>\n",
              "      <td>0</td>\n",
              "      <td>0</td>\n",
              "    </tr>\n",
              "    <tr>\n",
              "      <th>8</th>\n",
              "      <td>0</td>\n",
              "      <td>0</td>\n",
              "      <td>0</td>\n",
              "      <td>0</td>\n",
              "      <td>0</td>\n",
              "      <td>0</td>\n",
              "      <td>0</td>\n",
              "      <td>0</td>\n",
              "      <td>0</td>\n",
              "      <td>0</td>\n",
              "    </tr>\n",
              "    <tr>\n",
              "      <th>9</th>\n",
              "      <td>0</td>\n",
              "      <td>0</td>\n",
              "      <td>1</td>\n",
              "      <td>0</td>\n",
              "      <td>0</td>\n",
              "      <td>0</td>\n",
              "      <td>0</td>\n",
              "      <td>0</td>\n",
              "      <td>0</td>\n",
              "      <td>0</td>\n",
              "    </tr>\n",
              "  </tbody>\n",
              "</table>\n",
              "</div>"
            ],
            "text/plain": [
              "   Ad 1  Ad 2  Ad 3  Ad 4  Ad 5  Ad 6  Ad 7  Ad 8  Ad 9  Ad 10\n",
              "0     1     0     0     0     1     0     0     0     1      0\n",
              "1     0     0     0     0     0     0     0     0     1      0\n",
              "2     0     0     0     0     0     0     0     0     0      0\n",
              "3     0     1     0     0     0     0     0     1     0      0\n",
              "4     0     0     0     0     0     0     0     0     0      0\n",
              "5     1     1     0     0     0     0     0     0     0      0\n",
              "6     0     0     0     1     0     0     0     0     0      0\n",
              "7     1     1     0     0     1     0     0     0     0      0\n",
              "8     0     0     0     0     0     0     0     0     0      0\n",
              "9     0     0     1     0     0     0     0     0     0      0"
            ]
          },
          "metadata": {},
          "execution_count": 3
        }
      ]
    },
    {
      "cell_type": "markdown",
      "metadata": {
        "id": "s2GJ3L1hoRxd"
      },
      "source": [
        "###Using UCB Algorithm"
      ]
    },
    {
      "cell_type": "markdown",
      "metadata": {
        "id": "htI8R97SYuLh"
      },
      "source": [
        "We will use Reinforcement Learning to select the best advertisement out of a pool of options. <br/><br/>\n",
        "\n",
        "<b>Multi-armed Bandit Problem</b> - <br/>We have 'd' arms, e.g., arms are the ads that we display to the user, each time they connect to the webpage. Each time a user connects to this webpage, that makes a round. At each round 'n', we will choose one ad to display to the user. At each round 'n', ad number 'i' gives reward ri(n)=0 or 1. The reward is 0 when user does not interact with the ad and 1 when the user does. Our goal is to maximize the total reward. <br/><br/>\n",
        "\n",
        "<b>Upper Confidence Bound</b>- <br/>\n",
        "<b>Step 1</b> : At each round 'n', we consider two numbers for each ad 'i'. Ni(n) is the number of times the ad 'i' was selected upto round 'n'. Ri(n) is the sum of reward of the ad 'i' upto round 'n'.\n",
        "<br/>\n",
        "<b>Step 2</b>: The average reward of ad 'i' upto round 'n', that is, <i>ri.bar(n)=Ri(n)/Ni(n)</i>\n",
        "<br/>\n",
        "<b>Step 3</b>: Confidence Interval is given by <i>[\\ ri.bar(n) - delta.i(n), ri.bar(n)+delta.i(n) ]</i>, where delta.i(n) is given by <i>sqrt((3/2)*ln(n)/Ni(n))</i>\n",
        "<br/>\n",
        "<b>Step 4</b>: Select ad 'i' which has maximum upper confidence bound.\n",
        "\n"
      ]
    },
    {
      "cell_type": "code",
      "metadata": {
        "id": "ZIaEHohtjvP_"
      },
      "source": [
        "N=1000\n",
        "d=10\n",
        "ads_selected = []\n",
        "number_of_selections = [0]*d\n",
        "sum_of_rewards = [0]*d\n",
        "total_reward = 0\n",
        "\n",
        "for n in range(N):\n",
        "  ad = 0\n",
        "  max_upper_bound = 0\n",
        "  for i in range(d):\n",
        "    if number_of_selections[i] > 0:\n",
        "      average_reward = sum_of_rewards[i]/number_of_selections[i]\n",
        "      delta_i = math.sqrt((3/2)*math.log(n+1)/number_of_selections[i])\n",
        "      upper_bound = average_reward + delta_i\n",
        "    else:\n",
        "      upper_bound = 1e400\n",
        "    if upper_bound > max_upper_bound:\n",
        "      max_upper_bound = upper_bound\n",
        "      ad = i\n",
        "\n",
        "  ads_selected.append(ad)\n",
        "  number_of_selections[ad] = number_of_selections[ad]+1\n",
        "  reward = dataset.values[n,ad]\n",
        "  sum_of_rewards[ad] = sum_of_rewards[ad]+reward\n",
        "  total_reward = total_reward+reward"
      ],
      "execution_count": null,
      "outputs": []
    },
    {
      "cell_type": "code",
      "metadata": {
        "colab": {
          "base_uri": "https://localhost:8080/",
          "height": 312
        },
        "id": "HIclsHOhmxcd",
        "outputId": "b0235cf0-d721-4eb6-ccce-6bbb249ae245"
      },
      "source": [
        "#Visualise the results\n",
        "plt.hist(ads_selected)\n",
        "plt.title(\"Histogram of ads selected\")\n",
        "plt.xlabel(\"Ads\")\n",
        "plt.ylabel(\"No. of times each ad was selected\")"
      ],
      "execution_count": null,
      "outputs": [
        {
          "output_type": "execute_result",
          "data": {
            "text/plain": [
              "Text(0, 0.5, 'No. of times each ad was selected')"
            ]
          },
          "metadata": {},
          "execution_count": 5
        },
        {
          "output_type": "display_data",
          "data": {
            "image/png": "[encoded data removed]",
            "text/plain": [
              "<Figure size 432x288 with 1 Axes>"
            ]
          },
          "metadata": {
            "needs_background": "light"
          }
        }
      ]
    },
    {
      "cell_type": "markdown",
      "metadata": {
        "id": "QuSZKnj8oX9k"
      },
      "source": [
        "###Thompson Sampling (Using Bayesian Inference)"
      ]
    },
    {
      "cell_type": "markdown",
      "metadata": {
        "id": "K6-QGGveodUD"
      },
      "source": [
        "In this method, ad 'i' gets reward 'y' from a Bernoulli(theta.i) Distribution. The parameter theta.i is unknown but we set its uncertainty by assuming it has uniform distribution."
      ]
    },
    {
      "cell_type": "code",
      "metadata": {
        "id": "Y01boKv8pHDk"
      },
      "source": [
        "N = 1000\n",
        "d = 10\n",
        "ads_selected = []\n",
        "number_of_rewards1 = [0]*d\n",
        "number_of_rewards0 = [0]*d\n",
        "total_reward = 0\n",
        "\n",
        "for n in range(N):\n",
        "  ad = 0\n",
        "  max_random = 0\n",
        "  for i in range(d):\n",
        "    random_beta = random.betavariate(number_of_rewards1[i] + 1, number_of_rewards0[i]+1)\n",
        "    if random_beta > max_random:\n",
        "      max_random = random_beta\n",
        "      ad = i\n",
        "  ads_selected.append(ad)\n",
        "  reward = dataset.values[n,ad]\n",
        "  if reward==1:\n",
        "    number_of_rewards1[ad] = number_of_rewards1[ad]+1\n",
        "  else:\n",
        "    number_of_rewards0[ad] = number_of_rewards0[ad]+1\n",
        "  total_reward = total_reward + reward\n"
      ],
      "execution_count": null,
      "outputs": []
    },
    {
      "cell_type": "code",
      "metadata": {
        "colab": {
          "base_uri": "https://localhost:8080/",
          "height": 312
        },
        "id": "bJdV3R59sGYg",
        "outputId": "250fe845-496f-410a-d6dd-2abeb5e2353c"
      },
      "source": [
        "#Visualise the results\n",
        "plt.hist(ads_selected)\n",
        "plt.title(\"Histogram of selected ads\")\n",
        "plt.xlabel(\"Ads\")\n",
        "plt.ylabel(\"No. of times the ad was selected\")"
      ],
      "execution_count": null,
      "outputs": [
        {
          "output_type": "execute_result",
          "data": {
            "text/plain": [
              "Text(0, 0.5, 'No. of times the ad was selected')"
            ]
          },
          "metadata": {},
          "execution_count": 7
        },
        {
          "output_type": "display_data",
          "data": {
            "image/png": "[encoded data removed]",
            "text/plain": [
              "<Figure size 432x288 with 1 Axes>"
            ]
          },
          "metadata": {
            "needs_background": "light"
          }
        }
      ]
    },
    {
      "cell_type": "markdown",
      "metadata": {
        "id": "MY4Y9ymrpI97"
      },
      "source": [
        "###Difference between UCB and Thompson Sampling\n",
        "\n",
        "<b>UCB</b>\n",
        "<ol>\n",
        "<li>Deterministic</li>\n",
        "<li>Requires update at every round</li>\n",
        "</ol>\n",
        "\n",
        "<b>Thompson Sampling</b>\n",
        "<ol>\n",
        "<li>Probabilistic</li>\n",
        "<li>Can accomodate delayed feedback</li>\n",
        "<li>Better empirical evidence</li>\n",
        "</ol>\n"
      ]
    }
  ]
}